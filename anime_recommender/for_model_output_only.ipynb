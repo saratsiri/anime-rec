{
 "cells": [
  {
   "cell_type": "code",
   "execution_count": null,
   "metadata": {},
   "outputs": [],
   "source": []
  },
  {
   "cell_type": "code",
   "execution_count": 3,
   "metadata": {},
   "outputs": [
    {
     "name": "stdout",
     "output_type": "stream",
     "text": [
      "Loading data...\n",
      "Loading data completed\n",
      "Estimating biases using als...\n",
      "Training Baseline Model...\n",
      "Baseline Model Completed\n",
      "Training KNN model\n",
      "Estimating biases using als...\n",
      "Computing the pearson_baseline similarity matrix...\n",
      "Done computing similarity matrix.\n",
      "KNN Model Completed\n"
     ]
    }
   ],
   "source": [
    "import pandas as pd\n",
    "from collections import defaultdict\n",
    "from scipy.sparse.linalg import svds\n",
    "import surprise as sp\n",
    "import pickle\n",
    "import os\n",
    "\n",
    "print(\"Loading data...\")\n",
    "# Load preprocessed data\n",
    "ScoresDFHotStart = pd.read_csv('/Users/fsiri/code/saratsiri/anime-rec/processed_data/ScoresDFHotStart.csv')\n",
    "print(\"Loading data completed\")\n",
    "# Initialize reader and load data into Surprise dataset format\n",
    "reader = sp.Reader(rating_scale=(0, 10))\n",
    "data = sp.Dataset.load_from_df(ScoresDFHotStart[['username', 'anime_id', 'my_score']], reader)\n",
    "\n",
    "# Split data into training and test set\n",
    "trainset, testset = sp.model_selection.train_test_split(data, test_size=.25)\n",
    "\n",
    "# Dictionary for analysis (unused in this snippet)\n",
    "analysis = defaultdict(list)\n",
    "\n",
    "# Train a BaselineOnly model\n",
    "trainset_full = data.build_full_trainset()\n",
    "baseline_model = sp.BaselineOnly()\n",
    "baseline_model.fit(trainset_full)\n",
    "\n",
    "# Generate anti-testset and make predictions\n",
    "anti_testset = trainset_full.build_anti_testset()\n",
    "print(\"Training Baseline Model...\")\n",
    "predictions = baseline_model.test(anti_testset)\n",
    "print(\"Baseline Model Completed\")\n",
    "\n",
    "# Convert predictions to dataframe and drop unnecessary column\n",
    "predictions_df = pd.DataFrame(predictions, columns=['uid', 'iid', 'rui', 'est', 'details'])\n",
    "predictions_df.drop('rui', axis=1, inplace=True)\n",
    "\n",
    "# Train a KNNBaseline model\n",
    "print(\"Training KNN model\")\n",
    "sim_options = {'name': 'pearson_baseline', 'user_based': False}\n",
    "knn_model = sp.KNNBaseline(sim_options=sim_options)\n",
    "knn_model.fit(trainset_full)\n",
    "print(\"KNN Model Completed\")\n",
    "# Save models to pickle files\n",
    "\n"
   ]
  },
  {
   "cell_type": "code",
   "execution_count": 4,
   "metadata": {},
   "outputs": [
    {
     "name": "stdout",
     "output_type": "stream",
     "text": [
      "Saving..\n",
      "Saving Completed\n"
     ]
    }
   ],
   "source": [
    "print(\"Saving..\")\n",
    "with open(f\"{os.getcwd()}/trained_models/baseline_model.pickle\", 'wb') as f:\n",
    "    pickle.dump(baseline_model, f)\n",
    "with open(f\"{os.getcwd()}/trained_models/knn_model.pickle\", 'wb') as f:\n",
    "    pickle.dump(knn_model, f)\n",
    "print(\"Saving Completed\")"
   ]
  },
  {
   "cell_type": "code",
   "execution_count": null,
   "metadata": {},
   "outputs": [],
   "source": []
  }
 ],
 "metadata": {
  "kernelspec": {
   "display_name": "anime",
   "language": "python",
   "name": "python3"
  },
  "language_info": {
   "codemirror_mode": {
    "name": "ipython",
    "version": 3
   },
   "file_extension": ".py",
   "mimetype": "text/x-python",
   "name": "python",
   "nbconvert_exporter": "python",
   "pygments_lexer": "ipython3",
   "version": "3.10.6"
  },
  "orig_nbformat": 4
 },
 "nbformat": 4,
 "nbformat_minor": 2
}
