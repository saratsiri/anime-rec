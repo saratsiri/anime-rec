{
 "cells": [
  {
   "cell_type": "code",
   "execution_count": 1,
   "metadata": {},
   "outputs": [],
   "source": [
    "from collections import defaultdict\n",
    "import pandas as pd\n",
    "import numpy as np\n",
    "import scipy\n",
    "from scipy.sparse.linalg import svds\n",
    "import matplotlib.pyplot as plt\n",
    "import surprise as sp\n",
    "import time\n",
    "import pickle"
   ]
  },
  {
   "cell_type": "markdown",
   "metadata": {},
   "source": [
    "# Data"
   ]
  },
  {
   "cell_type": "code",
   "execution_count": 33,
   "metadata": {},
   "outputs": [],
   "source": [
    "#Importing the CSVs to Dataframe format\n",
    "UsersDF = pd.read_csv('../raw_data/users_cleaned.csv')\n",
    "AnimesDF = pd.read_csv('../raw_data/anime_cleaned.csv')\n",
    "ScoresDF = pd.read_csv('../raw_data/animelists_cleaned.csv')"
   ]
  },
  {
   "cell_type": "code",
   "execution_count": 34,
   "metadata": {},
   "outputs": [],
   "source": [
    "#Since ScoresDF is a huge DF (2GB of data) I`ll only take the columns that are important for the recommendation system\n",
    "ScoresDF = ScoresDF[['username', 'anime_id', 'my_score', 'my_status']]"
   ]
  },
  {
   "cell_type": "code",
   "execution_count": 35,
   "metadata": {},
   "outputs": [
    {
     "name": "stdout",
     "output_type": "stream",
     "text": [
      "Range of ratings vary between: 0 to 10\n"
     ]
    }
   ],
   "source": [
    "#Analysing all the possible values for the score, this will be used as a parameter later on\n",
    "lower_rating = ScoresDF['my_score'].min()\n",
    "upper_rating = ScoresDF['my_score'].max()\n",
    "print('Range of ratings vary between: {0} to {1}'.format(lower_rating, upper_rating))"
   ]
  },
  {
   "cell_type": "code",
   "execution_count": 36,
   "metadata": {},
   "outputs": [],
   "source": [
    "#Counting how many relevant scores each user have done, resetting the index (so the series could become a DF again) and changing the column names\n",
    "UsersAndScores = ScoresDF['username'].value_counts().reset_index().rename(columns={\"username\": \"animes_rated\", \"index\": \"username\"})"
   ]
  },
  {
   "cell_type": "code",
   "execution_count": 37,
   "metadata": {},
   "outputs": [],
   "source": [
    "UsersSampled = UsersDF.sample(frac = 1) #, random_state = 2)"
   ]
  },
  {
   "cell_type": "code",
   "execution_count": 38,
   "metadata": {},
   "outputs": [],
   "source": [
    "UsersAndScoresSampled = pd.merge(UsersAndScores, UsersSampled, left_on = 'username', right_on = 'username', how = 'inner')"
   ]
  },
  {
   "cell_type": "code",
   "execution_count": 39,
   "metadata": {},
   "outputs": [],
   "source": [
    "#Grouping users whom had the same amount of animes rated\n",
    "UserRatedsAggregated = UsersAndScoresSampled['animes_rated'].value_counts().reset_index().rename(columns={\"animes_rated\": \"group_size\", \"index\": \"animes_rated\"}).sort_values(by=['animes_rated'])"
   ]
  },
  {
   "cell_type": "code",
   "execution_count": 40,
   "metadata": {},
   "outputs": [],
   "source": [
    "#Counting how many relevant scores each anime has, resetting the index (so the series could become a DF again) and changing the column names\n",
    "RatedsPerAnime = ScoresDF['anime_id'].value_counts().reset_index().rename(columns={\"anime_id\": \"number_of_users\", \"index\": \"anime_id\"})"
   ]
  },
  {
   "cell_type": "code",
   "execution_count": 41,
   "metadata": {},
   "outputs": [],
   "source": [
    "#Grouping users whom had the same amount of animes rated\n",
    "AnimeRatedsAggregated = RatedsPerAnime['number_of_users'].value_counts().reset_index().rename(columns={\"number_of_users\": \"group_size\", \"index\": \"number_of_users\"}).sort_values(by=['number_of_users'])"
   ]
  },
  {
   "cell_type": "code",
   "execution_count": 42,
   "metadata": {},
   "outputs": [],
   "source": [
    "#Creating a dataframe of users  and animes with more than 10 interactions\n",
    "UserRatedsCutten = UsersAndScoresSampled[UsersAndScoresSampled['animes_rated'] >= 10]\n",
    "AnimeRatedsCutten = RatedsPerAnime[RatedsPerAnime['number_of_users'] >= 10]\n",
    "#Joining (merging) our new dataframes with the interactions one (this will already deal with the sample problem,\n",
    "#as it is an inner join). The \"HotStart\" name comes from a pun about solving the \"Cold Start\" issue\n",
    "ScoresDFHotStart = pd.merge(ScoresDF, UserRatedsCutten, left_on = 'username', right_on = 'username', how = 'inner')\n",
    "ScoresDFHotStart = pd.merge(ScoresDFHotStart, AnimeRatedsCutten, left_on = 'anime_id', right_on = 'anime_id', how = 'inner')"
   ]
  },
  {
   "cell_type": "markdown",
   "metadata": {},
   "source": [
    "# Training, testing and results structure\n"
   ]
  },
  {
   "cell_type": "code",
   "execution_count": 43,
   "metadata": {},
   "outputs": [],
   "source": [
    "#random_state = 42\n",
    "reader = sp.Reader(rating_scale=(0, 10))\n",
    "data = sp.Dataset.load_from_df(ScoresDFHotStart[['username', 'anime_id', 'my_score']], reader)\n",
    "trainset, testset = sp.model_selection.train_test_split(data, test_size=.25, random_state = random_state)\n",
    "analysis = defaultdict(list)"
   ]
  },
  {
   "cell_type": "code",
   "execution_count": 44,
   "metadata": {},
   "outputs": [],
   "source": [
    "# als_param_grid = {'bsl_options': {'method': ['als'],\n",
    "#                               'reg_i': [3,5],\n",
    "#                               'reg_u': [10],\n",
    "#                               'n_epochs': [20,25,30]\n",
    "#                               }\n",
    "#               }\n",
    "\n",
    "# sgd_param_grid = {'bsl_options': {'method': ['sgd'],\n",
    "#                               'reg': [0.005,0.01,0.015],\n",
    "#                               'n_epochs': [20,25,30],\n",
    "#                               'learning_rate' : [0.005]\n",
    "#                               }\n",
    "#               }\n",
    "\n",
    "# als_gs = sp.model_selection.GridSearchCV(sp.BaselineOnly, als_param_grid, measures=['rmse'], cv = 3, joblib_verbose = 0)\n",
    "\n",
    "# sgd_gs = sp.model_selection.GridSearchCV(sp.BaselineOnly, sgd_param_grid, measures=['rmse'], cv = 3, joblib_verbose = 0)"
   ]
  },
  {
   "cell_type": "code",
   "execution_count": 45,
   "metadata": {},
   "outputs": [],
   "source": [
    "# als_gs.fit(data)\n",
    "# print(\"Best RMSE score for ALS: \", als_gs.best_score['rmse'])\n",
    "# print(\"Best parameters for ALS: \", als_gs.best_params['rmse'])"
   ]
  },
  {
   "cell_type": "code",
   "execution_count": 46,
   "metadata": {},
   "outputs": [],
   "source": [
    "# sgd_gs.fit(data)\n",
    "# # For SGD\n",
    "# print(\"Best RMSE score for SGD: \", sgd_gs.best_score['rmse'])\n",
    "# print(\"Best parameters for SGD: \", sgd_gs.best_params['rmse'])"
   ]
  },
  {
   "cell_type": "code",
   "execution_count": null,
   "metadata": {},
   "outputs": [
    {
     "name": "stdout",
     "output_type": "stream",
     "text": [
      "Estimating biases using als...\n"
     ]
    }
   ],
   "source": [
    "%%time\n",
    "trainset = data.build_full_trainset()\n",
    "algo = sp.BaselineOnly()\n",
    "algo.fit(trainset)\n",
    "testset = trainset.build_anti_testset()\n",
    "predictions = algo.test(testset)\n",
    "\n",
    "last_predictions = pd.DataFrame(predictions, columns=['uid', 'iid', 'rui', 'est', 'details'])\n",
    "last_predictions.drop('rui', inplace = True, axis = 1)"
   ]
  },
  {
   "cell_type": "code",
   "execution_count": null,
   "metadata": {},
   "outputs": [],
   "source": [
    "%%time\n",
    "sim_options = {'name': 'pearson_baseline', 'user_based': False}\n",
    "algo_items = sp.KNNBaseline(sim_options=sim_options)\n",
    "algo_items.fit(trainset)"
   ]
  },
  {
   "cell_type": "code",
   "execution_count": null,
   "metadata": {},
   "outputs": [],
   "source": [
    "def get_item_recommendations(algo_items,anime_title, anime_id=100000, k=10):\n",
    "    if anime_id == 100000:     \n",
    "        anime_id = AnimesDF[AnimesDF['title'] == anime_title]['anime_id'].iloc[0]\n",
    "        \n",
    "    iid = algo_items.trainset.to_inner_iid(anime_id)\n",
    "    neighbors = algo_items.get_neighbors(iid, k=k)\n",
    "    raw_neighbors = (algo.trainset.to_raw_iid(inner_id) for inner_id in neighbors)\n",
    "    df = pd.DataFrame(raw_neighbors, columns = ['Anime_ID'])\n",
    "    df = pd.merge(df, AnimesDF, left_on = 'Anime_ID', right_on = 'anime_id', how = 'left')\n",
    "    return df[['Anime_ID', 'title', 'genre']]"
   ]
  },
  {
   "cell_type": "code",
   "execution_count": null,
   "metadata": {
    "scrolled": true
   },
   "outputs": [],
   "source": [
    "get_item_recommendations('Pokemon', k=10)"
   ]
  },
  {
   "cell_type": "code",
   "execution_count": null,
   "metadata": {},
   "outputs": [],
   "source": [
    "# Save the model to a file\n",
    "with open('model.pickle', 'wb') as f:\n",
    "    pickle.dump(algo, f)\n",
    "\n",
    "# Save the KNNBaseline model\n",
    "with open('knn_model.pickle', 'wb') as f:\n",
    "    pickle.dump(algo_items, f)\n"
   ]
  },
  {
   "cell_type": "code",
   "execution_count": null,
   "metadata": {},
   "outputs": [],
   "source": [
    "# Load the model from a file\n",
    "with open('model.pickle', 'rb') as f:\n",
    "    loaded_model = pickle.load(f)\n",
    "\n",
    "# Load the KNNBaseline model\n",
    "with open('knn_model.pickle', 'rb') as f:\n",
    "    loaded_knn_model = pickle.load(f)\n"
   ]
  },
  {
   "cell_type": "code",
   "execution_count": null,
   "metadata": {},
   "outputs": [],
   "source": [
    "algo_items = loaded_knn_model\n",
    "\n"
   ]
  },
  {
   "cell_type": "code",
   "execution_count": null,
   "metadata": {},
   "outputs": [],
   "source": [
    "get_item_recommendations(loaded_knn_model,'Pokemon', k=10)"
   ]
  },
  {
   "cell_type": "code",
   "execution_count": null,
   "metadata": {},
   "outputs": [],
   "source": []
  }
 ],
 "metadata": {
  "kernelspec": {
   "display_name": "Python 3 (ipykernel)",
   "language": "python",
   "name": "python3"
  },
  "language_info": {
   "codemirror_mode": {
    "name": "ipython",
    "version": 3
   },
   "file_extension": ".py",
   "mimetype": "text/x-python",
   "name": "python",
   "nbconvert_exporter": "python",
   "pygments_lexer": "ipython3",
   "version": "3.10.6"
  },
  "toc": {
   "base_numbering": 1,
   "nav_menu": {},
   "number_sections": true,
   "sideBar": true,
   "skip_h1_title": false,
   "title_cell": "Table of Contents",
   "title_sidebar": "Contents",
   "toc_cell": false,
   "toc_position": {},
   "toc_section_display": true,
   "toc_window_display": false
  }
 },
 "nbformat": 4,
 "nbformat_minor": 4
}
