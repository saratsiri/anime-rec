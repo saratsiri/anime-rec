{
 "cells": [
  {
   "cell_type": "code",
   "execution_count": 1,
   "id": "ab4d7292",
   "metadata": {},
   "outputs": [],
   "source": [
    "from collections import defaultdict\n",
    "import pandas as pd\n",
    "import numpy as np\n",
    "import scipy\n",
    "from scipy.sparse.linalg import svds\n",
    "import matplotlib.pyplot as plt\n",
    "import surprise as sp\n",
    "import time\n",
    "import pandas as pd\n",
    "from sklearn.preprocessing import MultiLabelBinarizer, StandardScaler\n",
    "from sklearn.cluster import KMeans\n",
    "from sklearn.decomposition import PCA\n",
    "import matplotlib.pyplot as plt\n",
    "import plotly.express as px\n",
    "from sklearn.metrics import silhouette_score, calinski_harabasz_score, davies_bouldin_score"
   ]
  },
  {
   "cell_type": "code",
   "execution_count": null,
   "id": "01e94943",
   "metadata": {
    "scrolled": true
   },
   "outputs": [],
   "source": [
    "#Importing the CSVs to Dataframe format\n",
    "UsersDF = pd.read_csv('../raw_data/users_cleaned.csv')\n",
    "AnimesDF = pd.read_csv('../raw_data/anime_cleaned.csv')\n",
    "ScoresDF = pd.read_csv('../raw_data/animelists_cleaned.csv')"
   ]
  },
  {
   "cell_type": "code",
   "execution_count": null,
   "id": "001450b8",
   "metadata": {},
   "outputs": [],
   "source": [
    "# Preprocessing\n",
    "AnimesDF = AnimesDF.dropna(subset=['genre'])\n",
    "AnimesDF['genre'] = AnimesDF['genre'].str.split(', ')"
   ]
  },
  {
   "cell_type": "code",
   "execution_count": null,
   "id": "ca0f44df",
   "metadata": {
    "scrolled": true
   },
   "outputs": [],
   "source": [
    "mlb = MultiLabelBinarizer()\n",
    "genre_encoded = mlb.fit_transform(AnimesDF['genre'])\n",
    "genre_df = pd.DataFrame(genre_encoded, columns=mlb.classes_, index=AnimesDF.index)\n",
    "AnimesDF = pd.concat([AnimesDF, genre_df], axis=1)\n",
    "\n",
    "# Select and scale features\n",
    "selected_columns = ['score', 'episodes', 'members', 'duration_min'] + list(mlb.classes_)\n",
    "anime_df_selected = AnimesDF[selected_columns].dropna()\n",
    "scaler = StandardScaler().set_output(transform = \"pandas\")\n",
    "anime_df_scaled = scaler.fit_transform(anime_df_selected)"
   ]
  },
  {
   "cell_type": "code",
   "execution_count": null,
   "id": "7c67671d",
   "metadata": {},
   "outputs": [],
   "source": [
    "# Apply PCA\n",
    "pca = PCA().set_output(transform = \"pandas\")\n",
    "features_pca = pca.fit_transform(anime_df_scaled)\n",
    "\n",
    "explained_variance = pca.explained_variance_ratio_\n",
    "\n",
    "plt.figure(figsize=(6, 4))\n",
    "plt.plot(range(len(explained_variance)), np.cumsum(explained_variance), alpha=0.5, label='Cumulative Variance Explained')\n",
    "plt.ylabel('Explained variance ratio')\n",
    "plt.xlabel('Principal components')\n",
    "plt.legend(loc='best')\n",
    "plt.grid()\n",
    "plt.tight_layout()\n",
    "\n",
    "# Use PCA to reduce dimensionality to \n",
    "pca = PCA(n_components=10)\n",
    "features_pca = pca.fit_transform(anime_df_scaled)"
   ]
  },
  {
   "cell_type": "code",
   "execution_count": null,
   "id": "dde27add",
   "metadata": {},
   "outputs": [],
   "source": [
    "# SCALING AND PRESERVING COLUMNS'NAMES\n",
    "scaler = StandardScaler().set_output(transform = \"pandas\")\n",
    "anime_df_scaled = scaler.fit_transform(anime_df_selected)\n",
    "display(anime_df_scaled)\n",
    "\n",
    "# PCA'ING AND PRESERVING COLUMNS'NAMES\n",
    "threhsold_pca = 30\n",
    "pca = PCA(n_components=threhsold_pca, whiten=True).set_output(transform=\"pandas\") # find all the Principal Components PC (no y!)\n",
    "pca.fit(anime_df_scaled)\n",
    "features_pca = pca.transform(anime_df_scaled)\n",
    "display(features_pca)\n",
    "features_pca = pca.transform(anime_df_scaled)"
   ]
  },
  {
   "cell_type": "code",
   "execution_count": null,
   "id": "7695ba79",
   "metadata": {},
   "outputs": [],
   "source": [
    "# Initialize an empty DataFrame to store the results\n",
    "results = pd.DataFrame(columns=['k', 'Silhouette Score', 'Calinski Harabasz Score', 'Davies Bouldin Score'])\n",
    "\n",
    "# Loop over the range of k values\n",
    "for k in range(2, 11):  # we start from 2 because silhouette_score is not defined for a single cluster\n",
    "    kmeans = KMeans(n_clusters=k, random_state=0, n_init = 'auto')\n",
    "    clusters = kmeans.fit_predict(features_pca)\n",
    "\n",
    "    silhouette = silhouette_score(features_pca, clusters)\n",
    "    calinski_harabasz = calinski_harabasz_score(features_pca, clusters)\n",
    "    davies_bouldin = davies_bouldin_score(features_pca, clusters)\n",
    "\n",
    "    results = results.append({'k': k, 'Silhouette Score': silhouette, 'Calinski Harabasz Score': calinski_harabasz, 'Davies Bouldin Score': davies_bouldin}, ignore_index=True)\n",
    "\n",
    "# Display the results\n",
    "print(results)\n"
   ]
  },
  {
   "cell_type": "code",
   "execution_count": null,
   "id": "f174de02",
   "metadata": {},
   "outputs": [],
   "source": [
    "# Add clusters to the DataFrame\n",
    "AnimesDF['cluster'] = clusters\n",
    "# Check the number of animes in each cluster\n",
    "print(AnimesDF['cluster'].value_counts())"
   ]
  },
  {
   "cell_type": "code",
   "execution_count": null,
   "id": "e721e752",
   "metadata": {},
   "outputs": [],
   "source": [
    "# Check the mean values of the features in each cluster\n",
    "print(AnimesDF.groupby('cluster')[['episodes', 'score', 'members', 'duration_min']].mean())"
   ]
  },
  {
   "cell_type": "code",
   "execution_count": null,
   "id": "7ec0b782",
   "metadata": {},
   "outputs": [],
   "source": [
    "import numpy as np\n",
    "import itertools\n",
    "import seaborn as sns\n",
    "import matplotlib.pyplot as plt\n",
    "\n",
    "# Create a list of all genres\n",
    "all_genres = list(set(itertools.chain.from_iterable(GenreDF)))\n",
    "\n",
    "# Initialize a co-occurrence matrix of zeros\n",
    "co_occurrence_matrix = pd.DataFrame(np.zeros((len(all_genres), len(all_genres))), index=all_genres, columns=all_genres)\n",
    "\n",
    "# Iterate through each list of genres and increment co-occurrence matrix for each pair\n",
    "for genres in GenreDF:\n",
    "    for genre1, genre2 in itertools.combinations(genres, 2):\n",
    "        co_occurrence_matrix.loc[genre1, genre2] += 1\n",
    "        co_occurrence_matrix.loc[genre2, genre1] += 1\n",
    "\n",
    "# Plot the co-occurrence matrix as a heatmap\n",
    "plt.figure(figsize=(10, 10))\n",
    "sns.heatmap(co_occurrence_matrix, cmap='YlGnBu')\n",
    "plt.title('Genre Co-occurrence Heatmap')\n",
    "plt.show()\n"
   ]
  },
  {
   "cell_type": "code",
   "execution_count": null,
   "id": "6e8ddbc1",
   "metadata": {},
   "outputs": [],
   "source": [
    "# Apply Elbow method\n",
    "distortions = []\n",
    "K = range(1,20)\n",
    "for k in K:\n",
    "    kmeanModel = KMeans(n_clusters=k)\n",
    "    kmeanModel.fit(features_pca)\n",
    "    distortions.append(kmeanModel.inertia_)\n",
    "\n",
    "plt.figure(figsize=(16,8))\n",
    "plt.plot(K, distortions, 'bx-')\n",
    "plt.xlabel('k')\n",
    "plt.ylabel('Distortion')\n",
    "plt.title('The Elbow Method showing the optimal k')\n",
    "plt.show()"
   ]
  },
  {
   "cell_type": "code",
   "execution_count": null,
   "id": "3a4047bc",
   "metadata": {},
   "outputs": [],
   "source": [
    "AnimesDF"
   ]
  },
  {
   "cell_type": "code",
   "execution_count": null,
   "id": "e6808972",
   "metadata": {},
   "outputs": [],
   "source": []
  }
 ],
 "metadata": {
  "kernelspec": {
   "display_name": "Python 3 (ipykernel)",
   "language": "python",
   "name": "python3"
  },
  "language_info": {
   "codemirror_mode": {
    "name": "ipython",
    "version": 3
   },
   "file_extension": ".py",
   "mimetype": "text/x-python",
   "name": "python",
   "nbconvert_exporter": "python",
   "pygments_lexer": "ipython3",
   "version": "3.10.6"
  },
  "toc": {
   "base_numbering": 1,
   "nav_menu": {},
   "number_sections": true,
   "sideBar": true,
   "skip_h1_title": false,
   "title_cell": "Table of Contents",
   "title_sidebar": "Contents",
   "toc_cell": false,
   "toc_position": {},
   "toc_section_display": true,
   "toc_window_display": false
  }
 },
 "nbformat": 4,
 "nbformat_minor": 5
}
